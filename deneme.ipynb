{
 "cells": [
  {
   "cell_type": "code",
   "execution_count": null,
   "metadata": {
    "collapsed": true
   },
   "outputs": [],
   "source": [
    "$$\n",
    "\\int_{x=1}^{N}5x+4 = x^{2}+1 = \\frac{5}{7}\n",
    "$$"
   ]
  },
  {
   "cell_type": "markdown",
   "metadata": {
    "collapsed": true
   },
   "source": [
    "That is $\\int_{x=1}^{N}5x+4$ = $x^{2}+1$ = $\\frac{5}{7}$ an example"
   ]
  },
  {
   "cell_type": "markdown",
   "metadata": {},
   "source": [
    "Let $\\Omega$ = {(x,y)|$x^2 + y^2 \\leq$ 1}, $f(x)$ = $C\\mathbb{1}_{\\Omega}$, and area of $\\Omega$ be __C__. Then,  \n",
    "<br>\n",
    "<center>\n",
    "$\\mathbb{E}_{p}[f(x)]$ = $\\int_{R}f(x)dp$ = $\\int_{\\Omega}C\\mathbb{1}_{\\Omega}dp$ = $Cp(\\Omega)$ = $C .$,\n",
    "</center>  \n",
    "<br>\n",
    "where _p(x)_ is a probability measure function, and $p(\\Omega)$ = 1. Hence, the expectation of $f(x)$ equals to the area of the region $\\Omega$.  \n",
    "After changing the probability measure of expectation, it can be written as \n",
    "<br>\n",
    "<center>\n",
    "$\\int_{\\Omega}f(x)dp$ = $\\int_{R}f(x)\\frac{p(x)}{q(x)}dq$ = $\\int_{R}f(x)w(x)dq$\n",
    "</center>\n",
    "<br>\n",
    "<br>\n",
    "where q(x) is uniform probability measure on _A_. Then, by Monte Carlo estimation, it can be obtained that\n",
    "<br>\n",
    "<center>\n",
    "$\\mathbb{E}_{p}[f(x)]$ = $C =$ $\\frac{1}{N}\\sum_{i=1}^{N}f(x^{(i)})w(x^{(i)})$ = $\\frac{1}{N}\\sum_{i=1}^{N}C\\mathbb{1}_{\\Omega}(x^{(i)})\\frac{\\frac{1}{C}}{\\frac{1}{A}}$ =  $\\frac{1}{N}\\sum_{i=1}^{N}\\mathbb{1}_{\\Omega}(x^{(i)})A$\n",
    "</center>\n",
    "<br>\n",
    "where $x^{(i)}$ $\\sim$ q(x)."
   ]
  },
  {
   "cell_type": "markdown",
   "metadata": {
    "collapsed": true
   },
   "source": []
  }
 ],
 "metadata": {
  "kernelspec": {
   "display_name": "Python 2",
   "language": "python",
   "name": "python2"
  },
  "language_info": {
   "codemirror_mode": {
    "name": "ipython",
    "version": 2
   },
   "file_extension": ".py",
   "mimetype": "text/x-python",
   "name": "python",
   "nbconvert_exporter": "python",
   "pygments_lexer": "ipython2",
   "version": "2.7.11"
  }
 },
 "nbformat": 4,
 "nbformat_minor": 0
}
